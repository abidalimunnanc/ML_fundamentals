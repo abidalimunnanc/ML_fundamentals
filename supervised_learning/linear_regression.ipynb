{
 "cells": [
  {
   "cell_type": "code",
   "execution_count": 36,
   "metadata": {},
   "outputs": [],
   "source": [
    "import numpy as np\n",
    "import matplotlib.pyplot as plt\n",
    "import pandas as pd\n"
   ]
  },
  {
   "cell_type": "code",
   "execution_count": 37,
   "metadata": {},
   "outputs": [],
   "source": [
    "class LinearRegression:\n",
    "    ''' \n",
    "    SGD REGRESSION \n",
    "\n",
    "    y = theta1.x1 + theta2.x2 + ... + thetaN.xN + bias\n",
    "\n",
    "    j(theta)  = 1/2m * sum((y - y_pred)^2)\n",
    "    j(theta)_derivative = 1/m * sum((y - y_pred) * x)\n",
    "    theta1 = theta1 - alpha * j(theta1)_derivative\n",
    "    theta2 = theta2 - alpha * j(theta2)_derivative\n",
    "    .\n",
    "    .\n",
    "    thetaN = thetaN - alpha * j(thetaN)_derivative\n",
    "\n",
    "    bias = bias - alpha * sum(y - y_pred)\n",
    "    y_pred = theta1.x1 + theta2.x2 + ... + thetaN.xN + bias\n",
    "\n",
    "    '''\n",
    "\n",
    "    def __init__(self, learning_rate=0.01, iterations=1000):\n",
    "\n",
    "        self.alpha = learning_rate\n",
    "        self.iterations = iterations\n",
    "\n",
    "    def fit(self, X, y):\n",
    "        self.theta = np.zeros(X.shape[1]).reshape(X.shape[1], 1)\n",
    "\n",
    "        def scale(X):\n",
    "            scx = np.empty((len(X), 0), int)\n",
    "\n",
    "            for i in range(X.shape[1]):\n",
    "                scx = np.append(scx, ((X[:, i].reshape(-1, 1) - np.mean(\n",
    "                    X[:, i].reshape(-1, 1)))/np.std(X[:, i].reshape(-1, 1))), axis=1)\n",
    "            return scx\n",
    "\n",
    "        self.bias = 0\n",
    "        self.mu = np.mean(y, axis=0)\n",
    "        self.sigma = np.std(y, axis=0)\n",
    "        self.X = scale(X)\n",
    "        self.y = scale(y)\n",
    "        self.m = X.shape[0]\n",
    "        self.n = X.shape[1]\n",
    "\n",
    "        self.J_history = []\n",
    "        self.theta_list = []\n",
    "\n",
    "        self.theta_temp = np.zeros(self.theta.shape)\n",
    "\n",
    "        for i in range(self.iterations):\n",
    "\n",
    "            for j in range(len(self.theta)):\n",
    "\n",
    "                self.theta_temp[j] = self.theta[j] - \\\n",
    "                    (self.alpha * self.cost_dev(j, self.theta))\n",
    "\n",
    "            self.theta = self.theta_temp\n",
    "\n",
    "            self.theta_list.append(list(self.theta))\n",
    "            self.cost_val = self.cost()\n",
    "            self.J_history.append(self.cost_val)\n",
    "\n",
    "            self.bias = self.bias - self.alpha * \\\n",
    "                np.sum(self.predict_train(self.X) - self.y) / len(self.X)\n",
    "\n",
    "        self.loss_ = np.sum(self.cost())\n",
    "\n",
    "    def cost(self):\n",
    "        cost = np.dot(np.transpose((np.dot(self.X, self.theta) -\n",
    "                      self.y)), (np.dot(self.X, self.theta) - self.y))\n",
    "        cost = (1/(2*self.m))*cost\n",
    "        return cost\n",
    "\n",
    "    def cost_dev(self, j, cost_theta,):\n",
    "        dev = np.dot(np.transpose(\n",
    "            self.X[:, j].reshape(-1, 1)), (np.dot(self.X, cost_theta) - self.y))\n",
    "        dev = (1/self.m)*dev\n",
    "        return dev\n",
    "\n",
    "    def compute_cost(self):\n",
    "        return (1/(2*self.m)) * np.dot(np.transpose((np.dot(self.X, self.theta) - self.y)), (np.dot(self.X, self.theta) - self.y))\n",
    "\n",
    "    def scale(self, X):\n",
    "        scx = np.empty((len(X), 0), int)\n",
    "\n",
    "        for i in range(X.shape[1]):\n",
    "            scx = np.append(scx, ((X[:, i].reshape(-1, 1) - np.mean(\n",
    "                X[:, i].reshape(-1, 1)))/np.std(X[:, i].reshape(-1, 1))), axis=1)\n",
    "        return scx\n",
    "\n",
    "    def predict_train(self, X_train):\n",
    "        y_pred = np.dot(X_train, self.theta) + self.bias\n",
    "\n",
    "        return y_pred\n",
    "\n",
    "    def y_test(self, X_test):\n",
    "\n",
    "        return np.dot(self.scale(X_test), self.theta) + self.bias\n",
    "\n",
    "    def predict(self, X_test):\n",
    "\n",
    "        return self.y_test(X_test) * self.sigma + self.mu\n",
    "\n",
    "    def plot_cost(self):\n",
    "        plt.plot(range(self.iterations), np.squeeze(self.J_history))\n",
    "        plt.xlabel('Iterations')\n",
    "        plt.ylabel('Cost')\n",
    "        plt.title('Cost vs. Iterations')\n",
    "        plt.show()\n"
   ]
  },
  {
   "cell_type": "code",
   "execution_count": 38,
   "metadata": {},
   "outputs": [
    {
     "name": "stdout",
     "output_type": "stream",
     "text": [
      "4.780449355952081e-08\n"
     ]
    },
    {
     "data": {
      "image/png": "[encoded data removed]",
      "text/plain": [
       "<Figure size 432x288 with 1 Axes>"
      ]
     },
     "metadata": {
      "needs_background": "light"
     },
     "output_type": "display_data"
    }
   ],
   "source": [
    "'''Simple Example'''\n",
    "X = np.array([[1, 3], [2, 4], [3, 5], [4, 6], [5, 7], ])\n",
    "y = np.array([2, 4, 6, 8, 10]).reshape(-1, 1)\n",
    "\n",
    "lr = LinearRegression(learning_rate=0.02, iterations=200)\n",
    "lr.fit(X, y)\n",
    "print(lr.loss_)\n",
    "lr.plot_cost()\n"
   ]
  },
  {
   "cell_type": "code",
   "execution_count": 39,
   "metadata": {},
   "outputs": [
    {
     "name": "stdout",
     "output_type": "stream",
     "text": [
      "0.02154285269891207\n"
     ]
    },
    {
     "data": {
      "image/png": "[encoded data removed]",
      "text/plain": [
       "<Figure size 432x288 with 1 Axes>"
      ]
     },
     "metadata": {
      "needs_background": "light"
     },
     "output_type": "display_data"
    },
    {
     "data": {
      "text/plain": [
       "[<matplotlib.lines.Line2D at 0x14eb7e24b20>]"
      ]
     },
     "execution_count": 39,
     "metadata": {},
     "output_type": "execute_result"
    },
    {
     "data": {
      "image/png": "[encoded data removed]",
      "text/plain": [
       "<Figure size 432x288 with 1 Axes>"
      ]
     },
     "metadata": {
      "needs_background": "light"
     },
     "output_type": "display_data"
    }
   ],
   "source": [
    "df = pd.read_csv('data/salary.csv')\n",
    "X = df.iloc[:,0].values.reshape(-1, 1)\n",
    "y = df.iloc[:, -1:].values.reshape(-1, 1)\n",
    "lr = LinearRegression(learning_rate=0.005, iterations=1000)\n",
    "lr.fit(X, y)\n",
    "print(lr.loss_)\n",
    "\n",
    "lr.plot_cost()\n",
    "\n",
    "fig, ax = plt.subplots()\n",
    "\n",
    "ax.scatter(df['YearsExperience'], df['Salary'], color='blue')\n",
    "ax.plot(df['YearsExperience'], lr.predict(X), color='red')\n"
   ]
  },
  {
   "cell_type": "code",
   "execution_count": 40,
   "metadata": {},
   "outputs": [
    {
     "data": {
      "text/html": [
       "<div>\n",
       "<style scoped>\n",
       "    .dataframe tbody tr th:only-of-type {\n",
       "        vertical-align: middle;\n",
       "    }\n",
       "\n",
       "    .dataframe tbody tr th {\n",
       "        vertical-align: top;\n",
       "    }\n",
       "\n",
       "    .dataframe thead th {\n",
       "        text-align: right;\n",
       "    }\n",
       "</style>\n",
       "<table border=\"1\" class=\"dataframe\">\n",
       "  <thead>\n",
       "    <tr style=\"text-align: right;\">\n",
       "      <th></th>\n",
       "      <th>R&amp;D Spend</th>\n",
       "      <th>Administration</th>\n",
       "      <th>Marketing Spend</th>\n",
       "      <th>State</th>\n",
       "      <th>Profit</th>\n",
       "    </tr>\n",
       "  </thead>\n",
       "  <tbody>\n",
       "    <tr>\n",
       "      <th>0</th>\n",
       "      <td>165349.20</td>\n",
       "      <td>136897.80</td>\n",
       "      <td>471784.10</td>\n",
       "      <td>New York</td>\n",
       "      <td>192261.83</td>\n",
       "    </tr>\n",
       "    <tr>\n",
       "      <th>1</th>\n",
       "      <td>162597.70</td>\n",
       "      <td>151377.59</td>\n",
       "      <td>443898.53</td>\n",
       "      <td>California</td>\n",
       "      <td>191792.06</td>\n",
       "    </tr>\n",
       "    <tr>\n",
       "      <th>2</th>\n",
       "      <td>153441.51</td>\n",
       "      <td>101145.55</td>\n",
       "      <td>407934.54</td>\n",
       "      <td>Florida</td>\n",
       "      <td>191050.39</td>\n",
       "    </tr>\n",
       "    <tr>\n",
       "      <th>3</th>\n",
       "      <td>144372.41</td>\n",
       "      <td>118671.85</td>\n",
       "      <td>383199.62</td>\n",
       "      <td>New York</td>\n",
       "      <td>182901.99</td>\n",
       "    </tr>\n",
       "    <tr>\n",
       "      <th>4</th>\n",
       "      <td>142107.34</td>\n",
       "      <td>91391.77</td>\n",
       "      <td>366168.42</td>\n",
       "      <td>Florida</td>\n",
       "      <td>166187.94</td>\n",
       "    </tr>\n",
       "  </tbody>\n",
       "</table>\n",
       "</div>"
      ],
      "text/plain": [
       "   R&D Spend  Administration  Marketing Spend       State     Profit\n",
       "0  165349.20       136897.80        471784.10    New York  192261.83\n",
       "1  162597.70       151377.59        443898.53  California  191792.06\n",
       "2  153441.51       101145.55        407934.54     Florida  191050.39\n",
       "3  144372.41       118671.85        383199.62    New York  182901.99\n",
       "4  142107.34        91391.77        366168.42     Florida  166187.94"
      ]
     },
     "execution_count": 40,
     "metadata": {},
     "output_type": "execute_result"
    }
   ],
   "source": [
    "df = pd.read_csv('data/profit.csv')\n",
    "df.head()\n"
   ]
  },
  {
   "cell_type": "code",
   "execution_count": 41,
   "metadata": {},
   "outputs": [
    {
     "data": {
      "text/plain": [
       "(50, 5)"
      ]
     },
     "execution_count": 41,
     "metadata": {},
     "output_type": "execute_result"
    }
   ],
   "source": [
    "df.shape"
   ]
  },
  {
   "cell_type": "code",
   "execution_count": 42,
   "metadata": {},
   "outputs": [
    {
     "name": "stdout",
     "output_type": "stream",
     "text": [
      "0.028734204517552132\n"
     ]
    },
    {
     "data": {
      "image/png": "[encoded data removed]",
      "text/plain": [
       "<Figure size 432x288 with 1 Axes>"
      ]
     },
     "metadata": {
      "needs_background": "light"
     },
     "output_type": "display_data"
    }
   ],
   "source": [
    "X = df.iloc[:, 0:3].values\n",
    "y = df.iloc[:, -1:].values.reshape(-1, 1)\n",
    "lr = LinearRegression(learning_rate=0.005, iterations=1000)\n",
    "lr.fit(X, y)\n",
    "print(lr.loss_)\n",
    "lr.plot_cost()"
   ]
  }
 ],
 "metadata": {
  "kernelspec": {
   "display_name": "Python 3.9.12 ('base')",
   "language": "python",
   "name": "python3"
  },
  "language_info": {
   "codemirror_mode": {
    "name": "ipython",
    "version": 3
   },
   "file_extension": ".py",
   "mimetype": "text/x-python",
   "name": "python",
   "nbconvert_exporter": "python",
   "pygments_lexer": "ipython3",
   "version": "3.9.12"
  },
  "orig_nbformat": 4,
  "vscode": {
   "interpreter": {
    "hash": "631926b96873d2007fbe5ba14401cac9ce99e5e76ded0bffc18be58f3fefa61b"
   }
  }
 },
 "nbformat": 4,
 "nbformat_minor": 2
}
